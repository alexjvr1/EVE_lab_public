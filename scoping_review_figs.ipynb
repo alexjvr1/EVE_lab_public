{
 "cells": [
  {
   "cell_type": "markdown",
   "id": "62838af0-612f-427e-9247-b4fc24802f31",
   "metadata": {},
   "source": [
    "Create figures for scoping review"
   ]
  },
  {
   "cell_type": "markdown",
   "id": "99bf7d6f-6a47-47e8-9588-0e7dfc12cbef",
   "metadata": {},
   "source": [
    "Import packages"
   ]
  },
  {
   "cell_type": "code",
   "execution_count": 1,
   "id": "edc0a6fe-f93b-42a9-84c0-cfd934c28f93",
   "metadata": {},
   "outputs": [
    {
     "name": "stderr",
     "output_type": "stream",
     "text": [
      "\n",
      "Attaching package: ‘dplyr’\n",
      "\n",
      "\n",
      "The following objects are masked from ‘package:data.table’:\n",
      "\n",
      "    between, first, last\n",
      "\n",
      "\n",
      "The following objects are masked from ‘package:stats’:\n",
      "\n",
      "    filter, lag\n",
      "\n",
      "\n",
      "The following objects are masked from ‘package:base’:\n",
      "\n",
      "    intersect, setdiff, setequal, union\n",
      "\n",
      "\n"
     ]
    }
   ],
   "source": [
    "# Import packages\n",
    "library(data.table)\n",
    "library(ggplot2)\n",
    "library(dplyr)\n",
    "library(tidyr)"
   ]
  },
  {
   "cell_type": "code",
   "execution_count": null,
   "id": "216af656-369b-4641-80be-7fd8025f1c0f",
   "metadata": {},
   "outputs": [],
   "source": [
    "Import all the data:\n",
    "\n",
    "### META DATA\n"
   ]
  },
  {
   "cell_type": "code",
   "execution_count": 4,
   "id": "50fbc0af-f3f5-44ce-92cc-866adb946ab0",
   "metadata": {
    "scrolled": true
   },
   "outputs": [
    {
     "data": {
      "text/html": [
       "<table class=\"dataframe\">\n",
       "<caption>A data.frame: 6 × 8</caption>\n",
       "<thead>\n",
       "\t<tr><th></th><th scope=col>studyRef</th><th scope=col>assessedBy</th><th scope=col>firstAuthor</th><th scope=col>year</th><th scope=col>species</th><th scope=col>countryStudy</th><th scope=col>mainOutcome</th><th scope=col>studyScore</th></tr>\n",
       "\t<tr><th></th><th scope=col>&lt;int&gt;</th><th scope=col>&lt;chr&gt;</th><th scope=col>&lt;chr&gt;</th><th scope=col>&lt;int&gt;</th><th scope=col>&lt;chr&gt;</th><th scope=col>&lt;chr&gt;</th><th scope=col>&lt;chr&gt;</th><th scope=col>&lt;chr&gt;</th></tr>\n",
       "</thead>\n",
       "<tbody>\n",
       "\t<tr><th scope=row>1</th><td>1182475512</td><td>AS/SE</td><td>O'Higgins  </td><td>2014</td><td>Human</td><td>Ireland </td><td>Both  </td><td>II </td></tr>\n",
       "\t<tr><th scope=row>2</th><td>1182475524</td><td>AS/SE</td><td>Cox        </td><td>2019</td><td>Human</td><td>Belgium </td><td>Both  </td><td>III</td></tr>\n",
       "\t<tr><th scope=row>3</th><td>1182476286</td><td>AS/SE</td><td>Assaf-Balut</td><td>2019</td><td>Human</td><td>Spain   </td><td>Both  </td><td>II </td></tr>\n",
       "\t<tr><th scope=row>4</th><td>1182476955</td><td>AS/SE</td><td>Assaf-Balut</td><td>2019</td><td>Human</td><td>Spain   </td><td>Both  </td><td>II </td></tr>\n",
       "\t<tr><th scope=row>5</th><td>1182477024</td><td>AS/SE</td><td>Fondjo     </td><td>2020</td><td>Human</td><td>Ghana   </td><td>Mother</td><td>II </td></tr>\n",
       "\t<tr><th scope=row>6</th><td>1182477025</td><td>AS/SE</td><td>Shamsi     </td><td>2010</td><td>Human</td><td>Pakistan</td><td>Mother</td><td>III</td></tr>\n",
       "</tbody>\n",
       "</table>\n"
      ],
      "text/latex": [
       "A data.frame: 6 × 8\n",
       "\\begin{tabular}{r|llllllll}\n",
       "  & studyRef & assessedBy & firstAuthor & year & species & countryStudy & mainOutcome & studyScore\\\\\n",
       "  & <int> & <chr> & <chr> & <int> & <chr> & <chr> & <chr> & <chr>\\\\\n",
       "\\hline\n",
       "\t1 & 1182475512 & AS/SE & O'Higgins   & 2014 & Human & Ireland  & Both   & II \\\\\n",
       "\t2 & 1182475524 & AS/SE & Cox         & 2019 & Human & Belgium  & Both   & III\\\\\n",
       "\t3 & 1182476286 & AS/SE & Assaf-Balut & 2019 & Human & Spain    & Both   & II \\\\\n",
       "\t4 & 1182476955 & AS/SE & Assaf-Balut & 2019 & Human & Spain    & Both   & II \\\\\n",
       "\t5 & 1182477024 & AS/SE & Fondjo      & 2020 & Human & Ghana    & Mother & II \\\\\n",
       "\t6 & 1182477025 & AS/SE & Shamsi      & 2010 & Human & Pakistan & Mother & III\\\\\n",
       "\\end{tabular}\n"
      ],
      "text/markdown": [
       "\n",
       "A data.frame: 6 × 8\n",
       "\n",
       "| <!--/--> | studyRef &lt;int&gt; | assessedBy &lt;chr&gt; | firstAuthor &lt;chr&gt; | year &lt;int&gt; | species &lt;chr&gt; | countryStudy &lt;chr&gt; | mainOutcome &lt;chr&gt; | studyScore &lt;chr&gt; |\n",
       "|---|---|---|---|---|---|---|---|---|\n",
       "| 1 | 1182475512 | AS/SE | O'Higgins   | 2014 | Human | Ireland  | Both   | II  |\n",
       "| 2 | 1182475524 | AS/SE | Cox         | 2019 | Human | Belgium  | Both   | III |\n",
       "| 3 | 1182476286 | AS/SE | Assaf-Balut | 2019 | Human | Spain    | Both   | II  |\n",
       "| 4 | 1182476955 | AS/SE | Assaf-Balut | 2019 | Human | Spain    | Both   | II  |\n",
       "| 5 | 1182477024 | AS/SE | Fondjo      | 2020 | Human | Ghana    | Mother | II  |\n",
       "| 6 | 1182477025 | AS/SE | Shamsi      | 2010 | Human | Pakistan | Mother | III |\n",
       "\n"
      ],
      "text/plain": [
       "  studyRef   assessedBy firstAuthor year species countryStudy mainOutcome\n",
       "1 1182475512 AS/SE      O'Higgins   2014 Human   Ireland      Both       \n",
       "2 1182475524 AS/SE      Cox         2019 Human   Belgium      Both       \n",
       "3 1182476286 AS/SE      Assaf-Balut 2019 Human   Spain        Both       \n",
       "4 1182476955 AS/SE      Assaf-Balut 2019 Human   Spain        Both       \n",
       "5 1182477024 AS/SE      Fondjo      2020 Human   Ghana        Mother     \n",
       "6 1182477025 AS/SE      Shamsi      2010 Human   Pakistan     Mother     \n",
       "  studyScore\n",
       "1 II        \n",
       "2 III       \n",
       "3 II        \n",
       "4 II        \n",
       "5 II        \n",
       "6 III       "
      ]
     },
     "metadata": {},
     "output_type": "display_data"
    }
   ],
   "source": [
    "# Meta data\n",
    "datMeta <- read.csv(\"tblStudyMeta.csv\", header=T)\n",
    "head(datMeta)"
   ]
  },
  {
   "cell_type": "markdown",
   "id": "5c96bf71-2def-42cb-b2a8-afbca1384804",
   "metadata": {},
   "source": [
    "\n",
    "### INFECTION DATA\n"
   ]
  },
  {
   "cell_type": "code",
   "execution_count": 6,
   "id": "6f478816-9f39-453a-8a79-de33d99cfdff",
   "metadata": {
    "scrolled": true
   },
   "outputs": [
    {
     "data": {
      "text/html": [
       "<table class=\"dataframe\">\n",
       "<caption>A data.frame: 6 × 11</caption>\n",
       "<thead>\n",
       "\t<tr><th></th><th scope=col>studyRef</th><th scope=col>infectionType</th><th scope=col>X</th><th scope=col>X.1</th><th scope=col>X.2</th><th scope=col>X.3</th><th scope=col>X.4</th><th scope=col>X.5</th><th scope=col>X.6</th><th scope=col>X.7</th><th scope=col>X.8</th></tr>\n",
       "\t<tr><th></th><th scope=col>&lt;int&gt;</th><th scope=col>&lt;chr&gt;</th><th scope=col>&lt;chr&gt;</th><th scope=col>&lt;chr&gt;</th><th scope=col>&lt;chr&gt;</th><th scope=col>&lt;chr&gt;</th><th scope=col>&lt;chr&gt;</th><th scope=col>&lt;chr&gt;</th><th scope=col>&lt;chr&gt;</th><th scope=col>&lt;chr&gt;</th><th scope=col>&lt;chr&gt;</th></tr>\n",
       "</thead>\n",
       "<tbody>\n",
       "\t<tr><th scope=row>1</th><td>1182475512</td><td>Bacterial infection            </td><td></td><td></td><td></td><td></td><td></td><td></td><td></td><td></td><td></td></tr>\n",
       "\t<tr><th scope=row>2</th><td>1182475524</td><td>Inflammatory/immune reponse    </td><td></td><td></td><td></td><td></td><td></td><td></td><td></td><td></td><td></td></tr>\n",
       "\t<tr><th scope=row>3</th><td>1182476286</td><td>Urinary/Genital Tract Infection</td><td></td><td></td><td></td><td></td><td></td><td></td><td></td><td></td><td></td></tr>\n",
       "\t<tr><th scope=row>4</th><td>1182476955</td><td>Urinary/Genital Tract Infection</td><td></td><td></td><td></td><td></td><td></td><td></td><td></td><td></td><td></td></tr>\n",
       "\t<tr><th scope=row>5</th><td>1182477024</td><td>Malaria                        </td><td></td><td></td><td></td><td></td><td></td><td></td><td></td><td></td><td></td></tr>\n",
       "\t<tr><th scope=row>6</th><td>1182477025</td><td>Urinary/Genital Tract Infection</td><td></td><td></td><td></td><td></td><td></td><td></td><td></td><td></td><td></td></tr>\n",
       "</tbody>\n",
       "</table>\n"
      ],
      "text/latex": [
       "A data.frame: 6 × 11\n",
       "\\begin{tabular}{r|lllllllllll}\n",
       "  & studyRef & infectionType & X & X.1 & X.2 & X.3 & X.4 & X.5 & X.6 & X.7 & X.8\\\\\n",
       "  & <int> & <chr> & <chr> & <chr> & <chr> & <chr> & <chr> & <chr> & <chr> & <chr> & <chr>\\\\\n",
       "\\hline\n",
       "\t1 & 1182475512 & Bacterial infection             &  &  &  &  &  &  &  &  & \\\\\n",
       "\t2 & 1182475524 & Inflammatory/immune reponse     &  &  &  &  &  &  &  &  & \\\\\n",
       "\t3 & 1182476286 & Urinary/Genital Tract Infection &  &  &  &  &  &  &  &  & \\\\\n",
       "\t4 & 1182476955 & Urinary/Genital Tract Infection &  &  &  &  &  &  &  &  & \\\\\n",
       "\t5 & 1182477024 & Malaria                         &  &  &  &  &  &  &  &  & \\\\\n",
       "\t6 & 1182477025 & Urinary/Genital Tract Infection &  &  &  &  &  &  &  &  & \\\\\n",
       "\\end{tabular}\n"
      ],
      "text/markdown": [
       "\n",
       "A data.frame: 6 × 11\n",
       "\n",
       "| <!--/--> | studyRef &lt;int&gt; | infectionType &lt;chr&gt; | X &lt;chr&gt; | X.1 &lt;chr&gt; | X.2 &lt;chr&gt; | X.3 &lt;chr&gt; | X.4 &lt;chr&gt; | X.5 &lt;chr&gt; | X.6 &lt;chr&gt; | X.7 &lt;chr&gt; | X.8 &lt;chr&gt; |\n",
       "|---|---|---|---|---|---|---|---|---|---|---|---|\n",
       "| 1 | 1182475512 | Bacterial infection             | <!----> | <!----> | <!----> | <!----> | <!----> | <!----> | <!----> | <!----> | <!----> |\n",
       "| 2 | 1182475524 | Inflammatory/immune reponse     | <!----> | <!----> | <!----> | <!----> | <!----> | <!----> | <!----> | <!----> | <!----> |\n",
       "| 3 | 1182476286 | Urinary/Genital Tract Infection | <!----> | <!----> | <!----> | <!----> | <!----> | <!----> | <!----> | <!----> | <!----> |\n",
       "| 4 | 1182476955 | Urinary/Genital Tract Infection | <!----> | <!----> | <!----> | <!----> | <!----> | <!----> | <!----> | <!----> | <!----> |\n",
       "| 5 | 1182477024 | Malaria                         | <!----> | <!----> | <!----> | <!----> | <!----> | <!----> | <!----> | <!----> | <!----> |\n",
       "| 6 | 1182477025 | Urinary/Genital Tract Infection | <!----> | <!----> | <!----> | <!----> | <!----> | <!----> | <!----> | <!----> | <!----> |\n",
       "\n"
      ],
      "text/plain": [
       "  studyRef   infectionType                   X X.1 X.2 X.3 X.4 X.5 X.6 X.7 X.8\n",
       "1 1182475512 Bacterial infection                                              \n",
       "2 1182475524 Inflammatory/immune reponse                                      \n",
       "3 1182476286 Urinary/Genital Tract Infection                                  \n",
       "4 1182476955 Urinary/Genital Tract Infection                                  \n",
       "5 1182477024 Malaria                                                          \n",
       "6 1182477025 Urinary/Genital Tract Infection                                  "
      ]
     },
     "metadata": {},
     "output_type": "display_data"
    }
   ],
   "source": [
    "# Infection data\n",
    "datInf<-read.csv(\"tblStudyInfections.csv\",header=T)\n",
    "head(datInf)"
   ]
  },
  {
   "cell_type": "code",
   "execution_count": 7,
   "id": "b9100075-49d2-4f32-bcab-608b3209a1bf",
   "metadata": {},
   "outputs": [],
   "source": [
    "# long format with multiple infection types per study shown in multiple rows\n",
    "datInf_long <- datInf %>%\n",
    "  pivot_longer(cols = -studyRef, values_to = \"infectionType\") %>%\n",
    "  mutate(infectionType = na_if(infectionType, \"\")) %>%\n",
    "  filter(!is.na(infectionType))\n",
    "\n",
    "#trim white space\n",
    "datInf_long$infectionType <-trimws(datInf_long$infectionType)"
   ]
  },
  {
   "cell_type": "code",
   "execution_count": 15,
   "id": "e952cac8-b8fe-4881-8b7d-87ab90cf6907",
   "metadata": {},
   "outputs": [
    {
     "data": {
      "text/html": [
       "<style>\n",
       ".list-inline {list-style: none; margin:0; padding: 0}\n",
       ".list-inline>li {display: inline-block}\n",
       ".list-inline>li:not(:last-child)::after {content: \"\\00b7\"; padding: 0 .5ex}\n",
       "</style>\n",
       "<ol class=list-inline><li>'Bacterial infection'</li><li>'Inflammatory/immune reponse'</li><li>'Urinary/Genital Tract Infection'</li><li>'Malaria'</li><li>'Respiratory infection'</li><li>'Fever or cold'</li><li>'Other'</li><li>'Influenza'</li><li>'Periodontal'</li><li>'Covid-19'</li><li>'LPS injection'</li><li>'HIV'</li><li>'Parasitic infection (nematode/hookworm etc)'</li><li>'H. pylori infection'</li><li>'Hepatitis B/C'</li><li>'STI'</li><li>'Vaccine response'</li><li>'C-reactive protein'</li><li>'Intra-amniotic/intra-uterine infection (chorioamnionitis)'</li><li>'Group B streptococcus'</li><li>'Toxoplasmosis'</li><li>'Herpes virus (HSV)'</li><li>'Rubella immune status'</li><li>'Unspecified maternal infection'</li><li>'Pyelonephritis (Kidney infection)'</li><li>'Zika virus'</li><li>'Sepsis'</li><li>'Yeast infection'</li><li>'Autoimmune disorder'</li><li>'HPV'</li><li>'Systemic infection'</li><li>'Tuberculosis'</li></ol>\n"
      ],
      "text/latex": [
       "\\begin{enumerate*}\n",
       "\\item 'Bacterial infection'\n",
       "\\item 'Inflammatory/immune reponse'\n",
       "\\item 'Urinary/Genital Tract Infection'\n",
       "\\item 'Malaria'\n",
       "\\item 'Respiratory infection'\n",
       "\\item 'Fever or cold'\n",
       "\\item 'Other'\n",
       "\\item 'Influenza'\n",
       "\\item 'Periodontal'\n",
       "\\item 'Covid-19'\n",
       "\\item 'LPS injection'\n",
       "\\item 'HIV'\n",
       "\\item 'Parasitic infection (nematode/hookworm etc)'\n",
       "\\item 'H. pylori infection'\n",
       "\\item 'Hepatitis B/C'\n",
       "\\item 'STI'\n",
       "\\item 'Vaccine response'\n",
       "\\item 'C-reactive protein'\n",
       "\\item 'Intra-amniotic/intra-uterine infection (chorioamnionitis)'\n",
       "\\item 'Group B streptococcus'\n",
       "\\item 'Toxoplasmosis'\n",
       "\\item 'Herpes virus (HSV)'\n",
       "\\item 'Rubella immune status'\n",
       "\\item 'Unspecified maternal infection'\n",
       "\\item 'Pyelonephritis (Kidney infection)'\n",
       "\\item 'Zika virus'\n",
       "\\item 'Sepsis'\n",
       "\\item 'Yeast infection'\n",
       "\\item 'Autoimmune disorder'\n",
       "\\item 'HPV'\n",
       "\\item 'Systemic infection'\n",
       "\\item 'Tuberculosis'\n",
       "\\end{enumerate*}\n"
      ],
      "text/markdown": [
       "1. 'Bacterial infection'\n",
       "2. 'Inflammatory/immune reponse'\n",
       "3. 'Urinary/Genital Tract Infection'\n",
       "4. 'Malaria'\n",
       "5. 'Respiratory infection'\n",
       "6. 'Fever or cold'\n",
       "7. 'Other'\n",
       "8. 'Influenza'\n",
       "9. 'Periodontal'\n",
       "10. 'Covid-19'\n",
       "11. 'LPS injection'\n",
       "12. 'HIV'\n",
       "13. 'Parasitic infection (nematode/hookworm etc)'\n",
       "14. 'H. pylori infection'\n",
       "15. 'Hepatitis B/C'\n",
       "16. 'STI'\n",
       "17. 'Vaccine response'\n",
       "18. 'C-reactive protein'\n",
       "19. 'Intra-amniotic/intra-uterine infection (chorioamnionitis)'\n",
       "20. 'Group B streptococcus'\n",
       "21. 'Toxoplasmosis'\n",
       "22. 'Herpes virus (HSV)'\n",
       "23. 'Rubella immune status'\n",
       "24. 'Unspecified maternal infection'\n",
       "25. 'Pyelonephritis (Kidney infection)'\n",
       "26. 'Zika virus'\n",
       "27. 'Sepsis'\n",
       "28. 'Yeast infection'\n",
       "29. 'Autoimmune disorder'\n",
       "30. 'HPV'\n",
       "31. 'Systemic infection'\n",
       "32. 'Tuberculosis'\n",
       "\n",
       "\n"
      ],
      "text/plain": [
       " [1] \"Bacterial infection\"                                      \n",
       " [2] \"Inflammatory/immune reponse\"                              \n",
       " [3] \"Urinary/Genital Tract Infection\"                          \n",
       " [4] \"Malaria\"                                                  \n",
       " [5] \"Respiratory infection\"                                    \n",
       " [6] \"Fever or cold\"                                            \n",
       " [7] \"Other\"                                                    \n",
       " [8] \"Influenza\"                                                \n",
       " [9] \"Periodontal\"                                              \n",
       "[10] \"Covid-19\"                                                 \n",
       "[11] \"LPS injection\"                                            \n",
       "[12] \"HIV\"                                                      \n",
       "[13] \"Parasitic infection (nematode/hookworm etc)\"              \n",
       "[14] \"H. pylori infection\"                                      \n",
       "[15] \"Hepatitis B/C\"                                            \n",
       "[16] \"STI\"                                                      \n",
       "[17] \"Vaccine response\"                                         \n",
       "[18] \"C-reactive protein\"                                       \n",
       "[19] \"Intra-amniotic/intra-uterine infection (chorioamnionitis)\"\n",
       "[20] \"Group B streptococcus\"                                    \n",
       "[21] \"Toxoplasmosis\"                                            \n",
       "[22] \"Herpes virus (HSV)\"                                       \n",
       "[23] \"Rubella immune status\"                                    \n",
       "[24] \"Unspecified maternal infection\"                           \n",
       "[25] \"Pyelonephritis (Kidney infection)\"                        \n",
       "[26] \"Zika virus\"                                               \n",
       "[27] \"Sepsis\"                                                   \n",
       "[28] \"Yeast infection\"                                          \n",
       "[29] \"Autoimmune disorder\"                                      \n",
       "[30] \"HPV\"                                                      \n",
       "[31] \"Systemic infection\"                                       \n",
       "[32] \"Tuberculosis\"                                             "
      ]
     },
     "metadata": {},
     "output_type": "display_data"
    },
    {
     "data": {
      "text/html": [],
      "text/latex": [],
      "text/markdown": [],
      "text/plain": [
       "character(0)"
      ]
     },
     "metadata": {},
     "output_type": "display_data"
    },
    {
     "data": {
      "text/html": [],
      "text/latex": [],
      "text/markdown": [],
      "text/plain": [
       "character(0)"
      ]
     },
     "metadata": {},
     "output_type": "display_data"
    },
    {
     "data": {
      "text/html": [
       "<table class=\"dataframe\">\n",
       "<caption>A data.frame: 6 × 3</caption>\n",
       "<thead>\n",
       "\t<tr><th></th><th scope=col>infectionType</th><th scope=col>studyRef</th><th scope=col>InfCat</th></tr>\n",
       "\t<tr><th></th><th scope=col>&lt;chr&gt;</th><th scope=col>&lt;int&gt;</th><th scope=col>&lt;chr&gt;</th></tr>\n",
       "</thead>\n",
       "<tbody>\n",
       "\t<tr><th scope=row>477</th><td>LPS injection                              </td><td>1182475095</td><td>Immune   </td></tr>\n",
       "\t<tr><th scope=row>275</th><td>Inflammatory/immune reponse                </td><td>1182475123</td><td>Immune   </td></tr>\n",
       "\t<tr><th scope=row>630</th><td>Parasitic infection (nematode/hookworm etc)</td><td>1182475134</td><td>Parasitic</td></tr>\n",
       "\t<tr><th scope=row>262</th><td>HIV                                        </td><td>1182475144</td><td>Viral    </td></tr>\n",
       "\t<tr><th scope=row>505</th><td>Malaria                                    </td><td>1182475144</td><td>Parasitic</td></tr>\n",
       "\t<tr><th scope=row>533</th><td>Malaria                                    </td><td>1182475147</td><td>Parasitic</td></tr>\n",
       "</tbody>\n",
       "</table>\n"
      ],
      "text/latex": [
       "A data.frame: 6 × 3\n",
       "\\begin{tabular}{r|lll}\n",
       "  & infectionType & studyRef & InfCat\\\\\n",
       "  & <chr> & <int> & <chr>\\\\\n",
       "\\hline\n",
       "\t477 & LPS injection                               & 1182475095 & Immune   \\\\\n",
       "\t275 & Inflammatory/immune reponse                 & 1182475123 & Immune   \\\\\n",
       "\t630 & Parasitic infection (nematode/hookworm etc) & 1182475134 & Parasitic\\\\\n",
       "\t262 & HIV                                         & 1182475144 & Viral    \\\\\n",
       "\t505 & Malaria                                     & 1182475144 & Parasitic\\\\\n",
       "\t533 & Malaria                                     & 1182475147 & Parasitic\\\\\n",
       "\\end{tabular}\n"
      ],
      "text/markdown": [
       "\n",
       "A data.frame: 6 × 3\n",
       "\n",
       "| <!--/--> | infectionType &lt;chr&gt; | studyRef &lt;int&gt; | InfCat &lt;chr&gt; |\n",
       "|---|---|---|---|\n",
       "| 477 | LPS injection                               | 1182475095 | Immune    |\n",
       "| 275 | Inflammatory/immune reponse                 | 1182475123 | Immune    |\n",
       "| 630 | Parasitic infection (nematode/hookworm etc) | 1182475134 | Parasitic |\n",
       "| 262 | HIV                                         | 1182475144 | Viral     |\n",
       "| 505 | Malaria                                     | 1182475144 | Parasitic |\n",
       "| 533 | Malaria                                     | 1182475147 | Parasitic |\n",
       "\n"
      ],
      "text/plain": [
       "    infectionType                               studyRef   InfCat   \n",
       "477 LPS injection                               1182475095 Immune   \n",
       "275 Inflammatory/immune reponse                 1182475123 Immune   \n",
       "630 Parasitic infection (nematode/hookworm etc) 1182475134 Parasitic\n",
       "262 HIV                                         1182475144 Viral    \n",
       "505 Malaria                                     1182475144 Parasitic\n",
       "533 Malaria                                     1182475147 Parasitic"
      ]
     },
     "metadata": {},
     "output_type": "display_data"
    }
   ],
   "source": [
    "# Categorise Infection data\n",
    "\n",
    "#What are all the Infection types?\n",
    "unique(datInf_long$infectionType)\n",
    "\n",
    "## Table catagorising infection types\n",
    "infection_lookup <- data.frame(\n",
    "  Infection = c(\"HPV\", \"Yeast infection\", \"Sepsis\", \"Systemic infection\", \"Tuberculosis\",\n",
    "                \"Toxoplasmosis\", \"Zika virus\", \"Autoimmune disorder\", \"Rubella immune status\",\n",
    "                \"Herpes virus (HSV)\", \"Influenza\", \"Pyelonephritis (Kidney infection)\", \"Fever or cold\",\n",
    "                \"Periodontal\", \"Group B streptococcus\", \"H. pylori infection\", \"Vaccine response\",\n",
    "                \"Bacterial infection\", \"LPS injection\", \"C-reactive protein\",\n",
    "                \"Unspecified maternal infection\", \"Hepatitis B/C\", \"Intra-amniotic/intra-uterine infection (chorioamnionitis)\",\n",
    "                \"STI\", \"Respiratory infection\", \"Other\", \"Malaria\", \n",
    "                \"Parasitic infection (nematode/hookworm etc)\", \"HIV\", \"Covid-19\", \"Urinary/Genital Tract Infection\",\n",
    "                \"Inflammatory/immune reponse\"),\n",
    "  InfCat = c(\"Viral\", \"Fungal\", \"Bacterial\", \"General\", \"Bacterial\",\n",
    "             \"Parasitic\", \"Viral\", \"Immune\", \"Viral\",\n",
    "             \"Viral\", \"Viral\", \"Bacterial\", \"General\",\n",
    "             \"General\", \"Bacterial\", \"Bacterial\", \"Immune\",\n",
    "             \"Bacterial\", \"Immune\", \"Immune\",\n",
    "             \"General\", \"Viral\", \"Bacterial\",\n",
    "             \"Bacterial\", \"Bacterial\", \"General\", \"Parasitic\",\n",
    "             \"Parasitic\", \"Viral\", \"Viral\", \"Bacterial\", \"Immune\")\n",
    ")\n",
    "\n",
    "#Check that all the infection types have been categorised\n",
    "setdiff(unique(datInf_long$infectionType), unique(infection_lookup$Infection))\n",
    "setdiff(unique(infection_lookup$Infection), unique(datInf_long$infectionType))\n",
    "\n",
    "#Create catagorised dataset\n",
    "# Left join infection_lookup with datInf\n",
    "datInfType_long <- merge(datInf_long, infection_lookup, by.x = \"infectionType\", by.y = \"Infection\", all.x = TRUE)\n",
    "datInfType_long <- datInfType_long[,-3]\n",
    "head(datInfType_long[order(datInfType_long$studyRef),])\n"
   ]
  },
  {
   "cell_type": "code",
   "execution_count": null,
   "id": "eb786079-ae2a-40ce-bb0d-cef66c785a7f",
   "metadata": {},
   "outputs": [],
   "source": [
    "\n",
    "### NUTRITION DATA\n",
    "\n"
   ]
  },
  {
   "cell_type": "code",
   "execution_count": 17,
   "id": "8684a195-dbf9-4d07-9917-859b15f4d836",
   "metadata": {},
   "outputs": [],
   "source": [
    "datNut<-read.csv(\"tblStudyNutrition.csv\",header=T)\n",
    "\n",
    "# long format with multiple nutrient types per study shown in multiple rows\n",
    "datNut_long <- datNut %>%\n",
    "  pivot_longer(cols = -studyRef, values_to = \"nutritionType\") %>%\n",
    "  mutate(nutritionType = na_if(nutritionType, \"\")) %>%\n",
    "  filter(!is.na(nutritionType))\n",
    "\n",
    "#trim white space\n",
    "datNut_long$nutritionType <-trimws(datNut_long$nutritionType)\n",
    "\n"
   ]
  },
  {
   "cell_type": "code",
   "execution_count": 20,
   "id": "f5b5a5ff-833f-4fc1-961b-3c48cdce5517",
   "metadata": {},
   "outputs": [
    {
     "data": {
      "text/html": [
       "<style>\n",
       ".list-inline {list-style: none; margin:0; padding: 0}\n",
       ".list-inline>li {display: inline-block}\n",
       ".list-inline>li:not(:last-child)::after {content: \"\\00b7\"; padding: 0 .5ex}\n",
       "</style>\n",
       "<ol class=list-inline><li>'BMI'</li><li>'Dietary diversity/change'</li><li>'Anaemia'</li><li>'Folic acid'</li><li>'Iron'</li><li>'Mid-upper arm circumference (MUAC)'</li><li>'Vitamin A'</li><li>'Other'</li><li>'Vitamin B2/B6/B12'</li><li>'Zinc'</li><li>'Vitamin D'</li><li>'Vitamin C'</li><li>'Magnesium'</li><li>'Vitamin E'</li><li>'Fatty acids'</li><li>'Calcium'</li><li>'Copper'</li><li>'Boron'</li><li>'Protein'</li><li>'Multivitamin/micronutrient supplement etc'</li><li>'High fat diet'</li><li>'Gestational weight gain'</li><li>'Selenium'</li><li>'Fibre'</li><li>'Phosphorus'</li></ol>\n"
      ],
      "text/latex": [
       "\\begin{enumerate*}\n",
       "\\item 'BMI'\n",
       "\\item 'Dietary diversity/change'\n",
       "\\item 'Anaemia'\n",
       "\\item 'Folic acid'\n",
       "\\item 'Iron'\n",
       "\\item 'Mid-upper arm circumference (MUAC)'\n",
       "\\item 'Vitamin A'\n",
       "\\item 'Other'\n",
       "\\item 'Vitamin B2/B6/B12'\n",
       "\\item 'Zinc'\n",
       "\\item 'Vitamin D'\n",
       "\\item 'Vitamin C'\n",
       "\\item 'Magnesium'\n",
       "\\item 'Vitamin E'\n",
       "\\item 'Fatty acids'\n",
       "\\item 'Calcium'\n",
       "\\item 'Copper'\n",
       "\\item 'Boron'\n",
       "\\item 'Protein'\n",
       "\\item 'Multivitamin/micronutrient supplement etc'\n",
       "\\item 'High fat diet'\n",
       "\\item 'Gestational weight gain'\n",
       "\\item 'Selenium'\n",
       "\\item 'Fibre'\n",
       "\\item 'Phosphorus'\n",
       "\\end{enumerate*}\n"
      ],
      "text/markdown": [
       "1. 'BMI'\n",
       "2. 'Dietary diversity/change'\n",
       "3. 'Anaemia'\n",
       "4. 'Folic acid'\n",
       "5. 'Iron'\n",
       "6. 'Mid-upper arm circumference (MUAC)'\n",
       "7. 'Vitamin A'\n",
       "8. 'Other'\n",
       "9. 'Vitamin B2/B6/B12'\n",
       "10. 'Zinc'\n",
       "11. 'Vitamin D'\n",
       "12. 'Vitamin C'\n",
       "13. 'Magnesium'\n",
       "14. 'Vitamin E'\n",
       "15. 'Fatty acids'\n",
       "16. 'Calcium'\n",
       "17. 'Copper'\n",
       "18. 'Boron'\n",
       "19. 'Protein'\n",
       "20. 'Multivitamin/micronutrient supplement etc'\n",
       "21. 'High fat diet'\n",
       "22. 'Gestational weight gain'\n",
       "23. 'Selenium'\n",
       "24. 'Fibre'\n",
       "25. 'Phosphorus'\n",
       "\n",
       "\n"
      ],
      "text/plain": [
       " [1] \"BMI\"                                      \n",
       " [2] \"Dietary diversity/change\"                 \n",
       " [3] \"Anaemia\"                                  \n",
       " [4] \"Folic acid\"                               \n",
       " [5] \"Iron\"                                     \n",
       " [6] \"Mid-upper arm circumference (MUAC)\"       \n",
       " [7] \"Vitamin A\"                                \n",
       " [8] \"Other\"                                    \n",
       " [9] \"Vitamin B2/B6/B12\"                        \n",
       "[10] \"Zinc\"                                     \n",
       "[11] \"Vitamin D\"                                \n",
       "[12] \"Vitamin C\"                                \n",
       "[13] \"Magnesium\"                                \n",
       "[14] \"Vitamin E\"                                \n",
       "[15] \"Fatty acids\"                              \n",
       "[16] \"Calcium\"                                  \n",
       "[17] \"Copper\"                                   \n",
       "[18] \"Boron\"                                    \n",
       "[19] \"Protein\"                                  \n",
       "[20] \"Multivitamin/micronutrient supplement etc\"\n",
       "[21] \"High fat diet\"                            \n",
       "[22] \"Gestational weight gain\"                  \n",
       "[23] \"Selenium\"                                 \n",
       "[24] \"Fibre\"                                    \n",
       "[25] \"Phosphorus\"                               "
      ]
     },
     "metadata": {},
     "output_type": "display_data"
    },
    {
     "data": {
      "text/html": [],
      "text/latex": [],
      "text/markdown": [],
      "text/plain": [
       "character(0)"
      ]
     },
     "metadata": {},
     "output_type": "display_data"
    },
    {
     "data": {
      "text/html": [],
      "text/latex": [],
      "text/markdown": [],
      "text/plain": [
       "character(0)"
      ]
     },
     "metadata": {},
     "output_type": "display_data"
    },
    {
     "data": {
      "text/html": [
       "<table class=\"dataframe\">\n",
       "<caption>A data.frame: 6 × 3</caption>\n",
       "<thead>\n",
       "\t<tr><th></th><th scope=col>nutritionType</th><th scope=col>studyRef</th><th scope=col>Category</th></tr>\n",
       "\t<tr><th></th><th scope=col>&lt;chr&gt;</th><th scope=col>&lt;int&gt;</th><th scope=col>&lt;chr&gt;</th></tr>\n",
       "</thead>\n",
       "<tbody>\n",
       "\t<tr><th scope=row>683</th><td>Iron      </td><td>1182475095</td><td>Micronutrients </td></tr>\n",
       "\t<tr><th scope=row>82</th><td>BMI       </td><td>1182475123</td><td>Anthropometrics</td></tr>\n",
       "\t<tr><th scope=row>606</th><td>Folic acid</td><td>1182475134</td><td>Micronutrients </td></tr>\n",
       "\t<tr><th scope=row>680</th><td>Iron      </td><td>1182475134</td><td>Micronutrients </td></tr>\n",
       "\t<tr><th scope=row>810</th><td>Other     </td><td>1182475134</td><td>Diet/Other     </td></tr>\n",
       "\t<tr><th scope=row>898</th><td>Vitamin A </td><td>1182475134</td><td>Micronutrients </td></tr>\n",
       "</tbody>\n",
       "</table>\n"
      ],
      "text/latex": [
       "A data.frame: 6 × 3\n",
       "\\begin{tabular}{r|lll}\n",
       "  & nutritionType & studyRef & Category\\\\\n",
       "  & <chr> & <int> & <chr>\\\\\n",
       "\\hline\n",
       "\t683 & Iron       & 1182475095 & Micronutrients \\\\\n",
       "\t82 & BMI        & 1182475123 & Anthropometrics\\\\\n",
       "\t606 & Folic acid & 1182475134 & Micronutrients \\\\\n",
       "\t680 & Iron       & 1182475134 & Micronutrients \\\\\n",
       "\t810 & Other      & 1182475134 & Diet/Other     \\\\\n",
       "\t898 & Vitamin A  & 1182475134 & Micronutrients \\\\\n",
       "\\end{tabular}\n"
      ],
      "text/markdown": [
       "\n",
       "A data.frame: 6 × 3\n",
       "\n",
       "| <!--/--> | nutritionType &lt;chr&gt; | studyRef &lt;int&gt; | Category &lt;chr&gt; |\n",
       "|---|---|---|---|\n",
       "| 683 | Iron       | 1182475095 | Micronutrients  |\n",
       "| 82 | BMI        | 1182475123 | Anthropometrics |\n",
       "| 606 | Folic acid | 1182475134 | Micronutrients  |\n",
       "| 680 | Iron       | 1182475134 | Micronutrients  |\n",
       "| 810 | Other      | 1182475134 | Diet/Other      |\n",
       "| 898 | Vitamin A  | 1182475134 | Micronutrients  |\n",
       "\n"
      ],
      "text/plain": [
       "    nutritionType studyRef   Category       \n",
       "683 Iron          1182475095 Micronutrients \n",
       "82  BMI           1182475123 Anthropometrics\n",
       "606 Folic acid    1182475134 Micronutrients \n",
       "680 Iron          1182475134 Micronutrients \n",
       "810 Other         1182475134 Diet/Other     \n",
       "898 Vitamin A     1182475134 Micronutrients "
      ]
     },
     "metadata": {},
     "output_type": "display_data"
    }
   ],
   "source": [
    "#What are all the nutritionTypes?\n",
    "unique(datNut_long$nutritionType)\n",
    "\n",
    "# add categorisation\n",
    "# Lookup table with shortened category names\n",
    "\n",
    "##Notes: \n",
    "#### Anaemia has been changed to a Clinical Indicator rather than Anthromometric\n",
    "#### Minerals and Vitamins have been combined into Micronutrients\n",
    "#### Because of the above combination we can now add Multivitamin/micronutrient supplement to Micronutrients. \n",
    "\n",
    "nutrient_lookup <- data.frame(\n",
    "  Nutrition = c(\"Boron\", \"Phosphorus\", \"Magnesium\", \"Calcium\", \"Copper\", \"Selenium\", \"Zinc\", \"Iron\",\n",
    "                \"Vitamin A\", \"Vitamin B2/B6/B12\", \"Vitamin C\", \"Vitamin D\", \"Vitamin E\", \"Folic acid\",\n",
    "                \"Protein\", \"Fatty acids\", \"Fibre\", \"High fat diet\",\n",
    "                \"Multivitamin/micronutrient supplement etc\",\n",
    "                \"BMI\", \"Gestational weight gain\", \"Mid-upper arm circumference (MUAC)\", \"Anaemia\",\n",
    "                \"Dietary diversity/change\", \"Other\"),\n",
    "  Category = c(\n",
    "    \"Micronutrients\", \"Micronutrients\", \"Micronutrients\", \"Micronutrients\",\n",
    "    \"Micronutrients\", \"Micronutrients\", \"Micronutrients\", \"Micronutrients\",\n",
    "    \n",
    "    \"Micronutrients\", \"Micronutrients\", \"Micronutrients\", \"Micronutrients\",\n",
    "    \"Micronutrients\", \"Micronutrients\",\n",
    "    \n",
    "    \"Macronutrients\", \"Macronutrients\", \"Macronutrients\", \"Macronutrients\",\n",
    "    \n",
    "    \"Micronutrients\",\n",
    "    \n",
    "    \"Anthropometrics\", \"Anthropometrics\", \"Anthropometrics\", \"Clinical Indicator\",\n",
    "    \n",
    "    \"Diet/Other\", \"Diet/Other\"\n",
    "  ),\n",
    "  stringsAsFactors = FALSE\n",
    ")\n",
    "\n",
    "\n",
    "\n",
    "#Check that all the nutrition types have been categorised\n",
    "setdiff(unique(datNut_long$nutritionType), unique(nutrient_lookup$Nutrition))\n",
    "setdiff(unique(nutrient_lookup$Nutrition), unique(datNut_long$nutritionType))\n",
    "\n",
    "#Create catagorised dataset\n",
    "# Left join nutrient_lookup with datNut\n",
    "datNutType_long <- merge(datNut_long, nutrient_lookup, by.x = \"nutritionType\", by.y = \"Nutrition\", all.x = TRUE)\n",
    "datNutType_long <- datNutType_long[,-3] #remove \"name\" column\n",
    "head(datNutType_long[order(datNutType_long$studyRef),])\n",
    "\n",
    "\n",
    "\n"
   ]
  },
  {
   "cell_type": "markdown",
   "id": "16c95d49-7411-4991-9bfb-3d9cf1e207ed",
   "metadata": {},
   "source": [
    "\n",
    "### PREGNANCY OUTCOMES\n",
    "\n"
   ]
  },
  {
   "cell_type": "code",
   "execution_count": null,
   "id": "79b3ed4f-7252-4f27-8cdf-a9fe069cfc17",
   "metadata": {},
   "outputs": [],
   "source": []
  },
  {
   "cell_type": "code",
   "execution_count": null,
   "id": "73d44e34-b76d-40fa-ab37-9e3f3372f681",
   "metadata": {},
   "outputs": [],
   "source": []
  }
 ],
 "metadata": {
  "kernelspec": {
   "display_name": "R",
   "language": "R",
   "name": "ir"
  },
  "language_info": {
   "codemirror_mode": "r",
   "file_extension": ".r",
   "mimetype": "text/x-r-source",
   "name": "R",
   "pygments_lexer": "r",
   "version": "4.2.1"
  }
 },
 "nbformat": 4,
 "nbformat_minor": 5
}
